{
  "nbformat": 4,
  "nbformat_minor": 0,
  "metadata": {
    "colab": {
      "provenance": []
    },
    "kernelspec": {
      "name": "python3",
      "display_name": "Python 3"
    },
    "language_info": {
      "name": "python"
    }
  },
  "cells": [
    {
      "cell_type": "code",
      "execution_count": 12,
      "metadata": {
        "colab": {
          "base_uri": "https://localhost:8080/"
        },
        "id": "Gqbhzz2EiAam",
        "outputId": "02c3c711-0534-4a50-83c1-54595f3354da"
      },
      "outputs": [
        {
          "output_type": "stream",
          "name": "stdout",
          "text": [
            "Requirement already satisfied: transformers in /usr/local/lib/python3.10/dist-packages (4.46.3)\n",
            "Requirement already satisfied: filelock in /usr/local/lib/python3.10/dist-packages (from transformers) (3.16.1)\n",
            "Requirement already satisfied: huggingface-hub<1.0,>=0.23.2 in /usr/local/lib/python3.10/dist-packages (from transformers) (0.26.3)\n",
            "Requirement already satisfied: numpy>=1.17 in /usr/local/lib/python3.10/dist-packages (from transformers) (1.26.4)\n",
            "Requirement already satisfied: packaging>=20.0 in /usr/local/lib/python3.10/dist-packages (from transformers) (24.2)\n",
            "Requirement already satisfied: pyyaml>=5.1 in /usr/local/lib/python3.10/dist-packages (from transformers) (6.0.2)\n",
            "Requirement already satisfied: regex!=2019.12.17 in /usr/local/lib/python3.10/dist-packages (from transformers) (2024.9.11)\n",
            "Requirement already satisfied: requests in /usr/local/lib/python3.10/dist-packages (from transformers) (2.32.3)\n",
            "Requirement already satisfied: tokenizers<0.21,>=0.20 in /usr/local/lib/python3.10/dist-packages (from transformers) (0.20.3)\n",
            "Requirement already satisfied: safetensors>=0.4.1 in /usr/local/lib/python3.10/dist-packages (from transformers) (0.4.5)\n",
            "Requirement already satisfied: tqdm>=4.27 in /usr/local/lib/python3.10/dist-packages (from transformers) (4.66.6)\n",
            "Requirement already satisfied: fsspec>=2023.5.0 in /usr/local/lib/python3.10/dist-packages (from huggingface-hub<1.0,>=0.23.2->transformers) (2024.10.0)\n",
            "Requirement already satisfied: typing-extensions>=3.7.4.3 in /usr/local/lib/python3.10/dist-packages (from huggingface-hub<1.0,>=0.23.2->transformers) (4.12.2)\n",
            "Requirement already satisfied: charset-normalizer<4,>=2 in /usr/local/lib/python3.10/dist-packages (from requests->transformers) (3.4.0)\n",
            "Requirement already satisfied: idna<4,>=2.5 in /usr/local/lib/python3.10/dist-packages (from requests->transformers) (3.10)\n",
            "Requirement already satisfied: urllib3<3,>=1.21.1 in /usr/local/lib/python3.10/dist-packages (from requests->transformers) (2.2.3)\n",
            "Requirement already satisfied: certifi>=2017.4.17 in /usr/local/lib/python3.10/dist-packages (from requests->transformers) (2024.8.30)\n",
            "Requirement already satisfied: torch in /usr/local/lib/python3.10/dist-packages (2.5.1+cu121)\n",
            "Requirement already satisfied: filelock in /usr/local/lib/python3.10/dist-packages (from torch) (3.16.1)\n",
            "Requirement already satisfied: typing-extensions>=4.8.0 in /usr/local/lib/python3.10/dist-packages (from torch) (4.12.2)\n",
            "Requirement already satisfied: networkx in /usr/local/lib/python3.10/dist-packages (from torch) (3.4.2)\n",
            "Requirement already satisfied: jinja2 in /usr/local/lib/python3.10/dist-packages (from torch) (3.1.4)\n",
            "Requirement already satisfied: fsspec in /usr/local/lib/python3.10/dist-packages (from torch) (2024.10.0)\n",
            "Requirement already satisfied: sympy==1.13.1 in /usr/local/lib/python3.10/dist-packages (from torch) (1.13.1)\n",
            "Requirement already satisfied: mpmath<1.4,>=1.1.0 in /usr/local/lib/python3.10/dist-packages (from sympy==1.13.1->torch) (1.3.0)\n",
            "Requirement already satisfied: MarkupSafe>=2.0 in /usr/local/lib/python3.10/dist-packages (from jinja2->torch) (3.0.2)\n",
            "Requirement already satisfied: nltk in /usr/local/lib/python3.10/dist-packages (3.9.1)\n",
            "Requirement already satisfied: click in /usr/local/lib/python3.10/dist-packages (from nltk) (8.1.7)\n",
            "Requirement already satisfied: joblib in /usr/local/lib/python3.10/dist-packages (from nltk) (1.4.2)\n",
            "Requirement already satisfied: regex>=2021.8.3 in /usr/local/lib/python3.10/dist-packages (from nltk) (2024.9.11)\n",
            "Requirement already satisfied: tqdm in /usr/local/lib/python3.10/dist-packages (from nltk) (4.66.6)\n"
          ]
        }
      ],
      "source": [
        "!pip install transformers\n",
        "!pip install torch\n",
        "!pip install nltk\n"
      ]
    },
    {
      "cell_type": "code",
      "source": [
        "from transformers import pipeline\n",
        "import nltk\n"
      ],
      "metadata": {
        "id": "wrKFPG5wiFTw"
      },
      "execution_count": 13,
      "outputs": []
    },
    {
      "cell_type": "code",
      "source": [
        "nltk.download('punkt')\n"
      ],
      "metadata": {
        "colab": {
          "base_uri": "https://localhost:8080/"
        },
        "id": "VMZm1hsviMqr",
        "outputId": "ea22f701-539e-4070-a217-fbabfbd387c7"
      },
      "execution_count": 14,
      "outputs": [
        {
          "output_type": "stream",
          "name": "stderr",
          "text": [
            "[nltk_data] Downloading package punkt to /root/nltk_data...\n",
            "[nltk_data]   Package punkt is already up-to-date!\n"
          ]
        },
        {
          "output_type": "execute_result",
          "data": {
            "text/plain": [
              "True"
            ]
          },
          "metadata": {},
          "execution_count": 14
        }
      ]
    },
    {
      "cell_type": "code",
      "source": [
        "import nltk\n",
        "nltk.download('punkt')\n"
      ],
      "metadata": {
        "colab": {
          "base_uri": "https://localhost:8080/"
        },
        "id": "nbt1P0ZGjnZX",
        "outputId": "a555e6ce-e4ba-4a76-af42-0fadd13ed3c0"
      },
      "execution_count": 15,
      "outputs": [
        {
          "output_type": "stream",
          "name": "stderr",
          "text": [
            "[nltk_data] Downloading package punkt to /root/nltk_data...\n",
            "[nltk_data]   Package punkt is already up-to-date!\n"
          ]
        },
        {
          "output_type": "execute_result",
          "data": {
            "text/plain": [
              "True"
            ]
          },
          "metadata": {},
          "execution_count": 15
        }
      ]
    },
    {
      "cell_type": "code",
      "source": [
        "# Initialize the Hugging Face summarization pipeline with a pre-trained model\n",
        "summarizer = pipeline(\"summarization\", model=\"facebook/bart-large-cnn\")\n"
      ],
      "metadata": {
        "id": "4Wffk-__iY28"
      },
      "execution_count": 16,
      "outputs": []
    },
    {
      "cell_type": "code",
      "source": [
        "# Function to summarize text\n",
        "def summarize_text(text):\n",
        "    \"\"\"\n",
        "    Function to summarize a given text using a pre-trained summarization model.\n",
        "    \"\"\"\n",
        "    # Ensure the text length is within the acceptable limits for BART model\n",
        "    max_input_length = 1024  # BART has a max input length of 1024 tokens\n",
        "\n",
        "    # If text is too long, split it into smaller chunks\n",
        "    text_chunks = nltk.sent_tokenize(text)\n",
        "    chunk_size = max_input_length // 2  # Adjust as necessary\n",
        "\n",
        "    summaries = []\n",
        "    for i in range(0, len(text_chunks), chunk_size):\n",
        "        chunk = ' '.join(text_chunks[i:i + chunk_size])\n",
        "        summary = summarizer(chunk, max_length=150, min_length=50, do_sample=False)\n",
        "        summaries.append(summary[0]['summary_text'])\n",
        "\n",
        "    # Combine the summaries\n",
        "    full_summary = ' '.join(summaries)\n",
        "    return full_summary\n"
      ],
      "metadata": {
        "id": "a-KT0rMxignP"
      },
      "execution_count": 17,
      "outputs": []
    },
    {
      "cell_type": "code",
      "source": [
        "# Sample text to summarize\n",
        "text = \"\"\"\n",
        "Generative AI refers to artificial intelligence systems that can create new content, such as text, images, or music, based on patterns and data they have been trained on.\n",
        "Unlike traditional AI models that analyze and predict based on existing data, generative models aim to generate original outputs.\n",
        "These models leverage complex architectures like Generative Adversarial Networks (GANs) and Transformer-based models such as GPT (Generative Pre-trained Transformer).Generative AI has gained significant attention due to its potential applications in various fields, including content creation, healthcare, entertainment, and more. For example, in the realm of natural language processing (NLP), models like GPT-3 have been used to generate human-like text, create chatbots, write essays, and even compose poetry. In the visual arts, GANs have enabled the creation of photorealistic images, art, and even deepfake videos.The ability of generative AI to generate realistic and creative content raises ethical concerns, particularly around the generation of misleading information or \"fake news.\" There are also challenges related to bias in the generated content, privacy, and the potential for misuse of AI technologies. As generative AI continues to evolve, it presents both exciting opportunities and important challenges that require careful consideration and regulation\n",
        "\"\"\"\n"
      ],
      "metadata": {
        "id": "YSee-kWyi5Hr"
      },
      "execution_count": 25,
      "outputs": []
    },
    {
      "cell_type": "code",
      "source": [
        "# Sample text to summarize\n",
        "text1 = \"\"\"\n",
        "The global technology industry has evolved at an incredible pace over the past few decades. From the early days of the internet and personal computing to the rise of artificial intelligence and machine learning, technology has significantly impacted how people live, work, and communicate. The proliferation of mobile devices, the growth of social media, and the advent of cloud computing have further transformed industries across the board.\n",
        "With AI, industries ranging from healthcare and finance to retail and entertainment have witnessed massive disruptions. Automation, predictive analytics, and personalized recommendations have reshaped customer experiences and business operations.\n",
        "\"\"\"\n"
      ],
      "metadata": {
        "id": "ppzkirorjb9f"
      },
      "execution_count": 29,
      "outputs": []
    },
    {
      "cell_type": "code",
      "source": [
        "nltk.download('punkt')\n",
        "nltk.download('punkt_tab')\n"
      ],
      "metadata": {
        "colab": {
          "base_uri": "https://localhost:8080/"
        },
        "id": "jg4kB2FFkKAn",
        "outputId": "b5db1023-e68b-45c0-dcaf-20c25fa7ba5c"
      },
      "execution_count": 26,
      "outputs": [
        {
          "output_type": "stream",
          "name": "stderr",
          "text": [
            "[nltk_data] Downloading package punkt to /root/nltk_data...\n",
            "[nltk_data]   Package punkt is already up-to-date!\n",
            "[nltk_data] Downloading package punkt_tab to /root/nltk_data...\n",
            "[nltk_data]   Package punkt_tab is already up-to-date!\n"
          ]
        },
        {
          "output_type": "execute_result",
          "data": {
            "text/plain": [
              "True"
            ]
          },
          "metadata": {},
          "execution_count": 26
        }
      ]
    },
    {
      "cell_type": "code",
      "source": [
        "# Generate the summary\n",
        "summary = summarize_text(text)\n",
        "\n",
        "# Print the original text and the generated summary\n",
        "print(\"Original Text:\")\n",
        "print(text)\n",
        "print(\"\\nGenerated Summary:\")\n",
        "print(summary)\n"
      ],
      "metadata": {
        "colab": {
          "base_uri": "https://localhost:8080/"
        },
        "id": "uq4SeJWHjVZT",
        "outputId": "1f40f5cf-3997-4605-b796-64000f80168c"
      },
      "execution_count": 27,
      "outputs": [
        {
          "output_type": "stream",
          "name": "stdout",
          "text": [
            "Original Text:\n",
            "\n",
            "Generative AI refers to artificial intelligence systems that can create new content, such as text, images, or music, based on patterns and data they have been trained on. \n",
            "Unlike traditional AI models that analyze and predict based on existing data, generative models aim to generate original outputs. \n",
            "These models leverage complex architectures like Generative Adversarial Networks (GANs) and Transformer-based models such as GPT (Generative Pre-trained Transformer).Generative AI has gained significant attention due to its potential applications in various fields, including content creation, healthcare, entertainment, and more. For example, in the realm of natural language processing (NLP), models like GPT-3 have been used to generate human-like text, create chatbots, write essays, and even compose poetry. In the visual arts, GANs have enabled the creation of photorealistic images, art, and even deepfake videos.The ability of generative AI to generate realistic and creative content raises ethical concerns, particularly around the generation of misleading information or \"fake news.\" There are also challenges related to bias in the generated content, privacy, and the potential for misuse of AI technologies. As generative AI continues to evolve, it presents both exciting opportunities and important challenges that require careful consideration and regulation\n",
            "\n",
            "\n",
            "Generated Summary:\n",
            "Generative AI refers to artificial intelligence systems that can create new content. Unlike traditional AI models that analyze and predict based on existing data, generative models aim to generate original outputs. These models leverage complex architectures like Generative Adversarial Networks (GANs) and Transformer-based models such as GPT.\n"
          ]
        }
      ]
    },
    {
      "cell_type": "code",
      "source": [
        "summary = summarize_text(text1)\n",
        "\n",
        "# Print the original text and the generated summary\n",
        "print(\"Original Text:\")\n",
        "print(text1)\n",
        "print(\"\\nGenerated Summary:\")\n",
        "print(summary)"
      ],
      "metadata": {
        "colab": {
          "base_uri": "https://localhost:8080/"
        },
        "id": "BBRhRm4Xk5z3",
        "outputId": "2cd01b7f-041a-419b-d5b3-202fd7e3eb5a"
      },
      "execution_count": 30,
      "outputs": [
        {
          "output_type": "stream",
          "name": "stderr",
          "text": [
            "Your max_length is set to 150, but your input_length is only 115. Since this is a summarization task, where outputs shorter than the input are typically wanted, you might consider decreasing max_length manually, e.g. summarizer('...', max_length=57)\n"
          ]
        },
        {
          "output_type": "stream",
          "name": "stdout",
          "text": [
            "Original Text:\n",
            "\n",
            "The global technology industry has evolved at an incredible pace over the past few decades. From the early days of the internet and personal computing to the rise of artificial intelligence and machine learning, technology has significantly impacted how people live, work, and communicate. The proliferation of mobile devices, the growth of social media, and the advent of cloud computing have further transformed industries across the board.\n",
            "With AI, industries ranging from healthcare and finance to retail and entertainment have witnessed massive disruptions. Automation, predictive analytics, and personalized recommendations have reshaped customer experiences and business operations.\n",
            "\n",
            "\n",
            "Generated Summary:\n",
            "The global technology industry has evolved at an incredible pace over the past few decades. With AI, industries ranging from healthcare and finance to retail and entertainment have witnessed massive disruptions. Automation, predictive analytics, and personalized recommendations have reshaped customer experiences and business operations.\n"
          ]
        }
      ]
    }
  ]
}